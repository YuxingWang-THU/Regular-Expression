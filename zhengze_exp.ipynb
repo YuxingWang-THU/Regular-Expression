{
 "cells": [
  {
   "cell_type": "code",
   "execution_count": 1,
   "metadata": {},
   "outputs": [
    {
     "name": "stdout",
     "output_type": "stream",
     "text": [
      "True\n",
      "False\n"
     ]
    }
   ],
   "source": [
    "# matching string\n",
    "pattern1 = \"cat\"\n",
    "pattern2 = \"bird\"\n",
    "string = \"dog runs to cat\"\n",
    "print(pattern1 in string)    # True\n",
    "print(pattern2 in string)    # False"
   ]
  },
  {
   "cell_type": "code",
   "execution_count": 11,
   "metadata": {},
   "outputs": [
    {
     "name": "stdout",
     "output_type": "stream",
     "text": [
      "<_sre.SRE_Match object; span=(12, 15), match='cat'>\n"
     ]
    }
   ],
   "source": [
    "#search函数，匹配到它会返回一个 match 的 object. 如果没有匹配到, 它会返回 None.\n",
    "import re\n",
    "print(re.search(pattern1, string))"
   ]
  },
  {
   "cell_type": "code",
   "execution_count": 16,
   "metadata": {},
   "outputs": [
    {
     "name": "stdout",
     "output_type": "stream",
     "text": [
      "<_sre.SRE_Match object; span=(4, 7), match='run'>\n",
      "None\n",
      "<_sre.SRE_Match object; span=(4, 7), match='run'>\n",
      "<_sre.SRE_Match object; span=(4, 7), match='r2n'>\n",
      "<_sre.SRE_Match object; span=(0, 3), match='dog'>\n"
     ]
    }
   ],
   "source": [
    "#核心内容\n",
    "\n",
    "#如果需要找到潜在的多个可能性文字, 我们可以使用 [] 将可能的字符囊括进来.\n",
    "#比如 [ab] 就说明我想要找的字符可以是 a 也可以是 b.\n",
    "#我们在 pattern 的 “” 前面需要加上一个 r 用来表示这是正则表达式, 而不是普通字符串. 通过下面这种形式,\n",
    "#如果字符串中出现 “run” 或者是 “ran”, 它都能找到.\n",
    "# multiple patterns (\"run\" or \"ran\")\n",
    "ptn = r\"r[au]n\"       # start with \"r\" means raw string\n",
    "print(re.search(ptn, \"dog runs to cat\"))    # <_sre.SRE_Match object; span=(4, 7), match='run'>\n",
    "print(re.search(r\"r[A-Z]n\", \"dog runs to cat\"))     # None\n",
    "print(re.search(r\"r[a-z]n\", \"dog runs to cat\"))     # <_sre.SRE_Match object; span=(4, 7), match='run'>\n",
    "print(re.search(r\"r[0-9]n\", \"dog r2ns to cat\"))     # <_sre.SRE_Match object; span=(4, 7), match='r2n'>\n",
    "print(re.search(r\"d[0-9a-z]g\", \"dog runs to cat dkg\"))  # <_sre.SRE_Match object; span=(4, 7), match='run'>"
   ]
  },
  {
   "cell_type": "code",
   "execution_count": 17,
   "metadata": {},
   "outputs": [],
   "source": [
    "#按类型匹配\n",
    "#   \\d : 任何数字\n",
    "#   \\D : 不是数字\n",
    "#   \\s : 任何 white space, 如 [\\t\\n\\r\\f\\v]\n",
    "#   \\S : 不是 white space\n",
    "#   \\w : 任何大小写字母, 数字和 “” [a-zA-Z0-9]\n",
    "#   \\W : 不是 \\w\n",
    "#   \\b : 空白字符 (只在某个字的开头或结尾)\n",
    "#   \\B : 空白字符 (不在某个字的开头或结尾)\n",
    "#   \\\\ : 匹配 \\\n",
    "#    . : 匹配任何字符 (除了 \\n)\n",
    "#    ^ : 匹配开头\n",
    "#    $ : 匹配结尾\n",
    "#    ? : 前面的字符可有可无"
   ]
  },
  {
   "cell_type": "code",
   "execution_count": 35,
   "metadata": {},
   "outputs": [],
   "source": [
    "string_test = \"hello 12ssd1 kl fdfe h2llo Hello \"\n",
    "a = re.search(r\"\\d\",string_test)"
   ]
  },
  {
   "cell_type": "code",
   "execution_count": 31,
   "metadata": {},
   "outputs": [
    {
     "name": "stdout",
     "output_type": "stream",
     "text": [
      "<_sre.SRE_Match object; span=(4, 7), match='r4n'>\n",
      "<_sre.SRE_Match object; span=(0, 3), match='run'>\n",
      "<_sre.SRE_Match object; span=(0, 3), match='r\\nn'>\n",
      "<_sre.SRE_Match object; span=(4, 7), match='r4n'>\n",
      "<_sre.SRE_Match object; span=(4, 7), match='r4n'>\n",
      "<_sre.SRE_Match object; span=(0, 3), match='r\\nn'>\n",
      "<_sre.SRE_Match object; span=(4, 8), match='runs'>\n",
      "<_sre.SRE_Match object; span=(5, 11), match=' runs '>\n",
      "<_sre.SRE_Match object; span=(0, 5), match='runs\\\\'>\n",
      "<_sre.SRE_Match object; span=(0, 3), match='r[n'>\n",
      "<_sre.SRE_Match object; span=(0, 3), match='dog'>\n",
      "<_sre.SRE_Match object; span=(14, 15), match='t'>\n",
      "<_sre.SRE_Match object; span=(0, 6), match='Monday'>\n",
      "<_sre.SRE_Match object; span=(4, 10), match='Monday'>\n"
     ]
    }
   ],
   "source": [
    "# \\d : decimal digit\n",
    "print(re.search(r\"r\\dn\", \"run r4n r5n\"))           # <_sre.SRE_Match object; span=(4, 7), match='r4n'>\n",
    "# \\D : any non-decimal digit\n",
    "print(re.search(r\"r\\Dn\", \"run r4n\"))           # <_sre.SRE_Match object; span=(0, 3), match='run'>\n",
    "# \\s : any white space [\\t\\n\\r\\f\\v]\n",
    "print(re.search(r\"r\\sn\", \"r\\nn r4n\"))          # <_sre.SRE_Match object; span=(0, 3), match='r\\nn'>\n",
    "# \\S : opposite to \\s, any non-white space\n",
    "print(re.search(r\"r\\Sn\", \"r\\nn r4n\"))          # <_sre.SRE_Match object; span=(4, 7), match='r4n'>\n",
    "# \\w : [a-zA-Z0-9_]\n",
    "print(re.search(r\"r\\wn\", \"r\\nn r4n\"))          # <_sre.SRE_Match object; span=(4, 7), match='r4n'>\n",
    "# \\W : opposite to \\w\n",
    "print(re.search(r\"r\\Wn\", \"r\\nn r4n\"))          # <_sre.SRE_Match object; span=(0, 3), match='r\\nn'>\n",
    "# \\b : empty string (only at the start or end of the word)\n",
    "print(re.search(r\"\\bruns\\b\", \"dog runs to cat\"))    # <_sre.SRE_Match object; span=(4, 8), match='runs'>\n",
    "# \\B : empty string (but not at the start or end of a word)\n",
    "print(re.search(r\"\\B runs \\B\", \"dog   runs  to cat\"))  # <_sre.SRE_Match object; span=(8, 14), match=' runs '>\n",
    "# \\\\ : match \\\n",
    "print(re.search(r\"runs\\\\\", \"runs\\ to me\"))     # <_sre.SRE_Match object; span=(0, 5), match='runs\\\\'>\n",
    "# . : match anything (except \\n)\n",
    "print(re.search(r\"r.n\", \"r[ns to me\"))         # <_sre.SRE_Match object; span=(0, 3), match='r[n'>\n",
    "# ^ : match line beginning\n",
    "# 'abc'表示字符串中有'abc'就匹配成功\n",
    "# '[abc]'表示字符串中有'a'或'b'或'c'就匹配成功 \n",
    "# '^abc'表示字符串由'abc'开头就匹配成功\n",
    "# '^[abc]'表示字符串由'a'或'b'或'c'开头的，\n",
    "# '[^abc]'表示匹配'a','b','c'之外的字符。如果一个字符串是由'a','b','c'组合起来的，那就是假 \n",
    "print(re.search(r\"^dog\", \"dog runs to cat\"))   # <_sre.SRE_Match object; span=(0, 3), match='dog'>\n",
    "# $ : match line ending\n",
    "print(re.search(r\"[cat]$\", \"dog runs to cat\"))   # <_sre.SRE_Match object; span=(12, 15), match='cat'>\n",
    "# ? : may or may not occur\n",
    "print(re.search(r\"Mon(day)?\", \"Monday\"))       # <_sre.SRE_Match object; span=(0, 6), match='Monday'>\n",
    "print(re.search(r\"Mon(day)?\", \"giaoMonday\"))          # <_sre.SRE_Match object; span=(0, 3), match='Mon'>"
   ]
  },
  {
   "cell_type": "code",
   "execution_count": 32,
   "metadata": {},
   "outputs": [
    {
     "name": "stdout",
     "output_type": "stream",
     "text": [
      "None\n",
      "<_sre.SRE_Match object; span=(18, 19), match='I'>\n"
     ]
    }
   ],
   "source": [
    "#对多行进行处理\n",
    "#使用 另外一个参数, 让 re.search() 可以对每一行单独处理. \n",
    "#这个参数就是 flags=re.M, 或者这样写也行 flags=re.MULTILINE.\n",
    "string = \"\"\"\n",
    "dog runs to cat.\n",
    "I run to dog.\n",
    "\"\"\"\n",
    "print(re.search(r\"^I\", string))                 # None\n",
    "print(re.search(r\"^I\", string, flags=re.M))     # <_sre.SRE_Match object; span=(18, 19), match='I'>"
   ]
  },
  {
   "cell_type": "code",
   "execution_count": 33,
   "metadata": {},
   "outputs": [
    {
     "name": "stdout",
     "output_type": "stream",
     "text": [
      "<_sre.SRE_Match object; span=(0, 1), match='a'>\n",
      "<_sre.SRE_Match object; span=(0, 6), match='abbbbb'>\n",
      "None\n",
      "<_sre.SRE_Match object; span=(0, 6), match='abbbbb'>\n",
      "None\n",
      "<_sre.SRE_Match object; span=(0, 6), match='abbbbb'>\n"
     ]
    }
   ],
   "source": [
    "#重复匹配\n",
    "\n",
    "# * : 重复零次或多次\n",
    "# + : 重复一次或多次\n",
    "# {n, m} : 重复 n 至 m 次\n",
    "# {n} : 重复 n 次\n",
    "# * : occur 0 or more times\n",
    "print(re.search(r\"ab*\", \"a\"))             # <_sre.SRE_Match object; span=(0, 1), match='a'>\n",
    "print(re.search(r\"ab*\", \"abbbbb\"))        # <_sre.SRE_Match object; span=(0, 6), match='abbbbb'>\n",
    "\n",
    "# + : occur 1 or more times\n",
    "print(re.search(r\"ab+\", \"a\"))             # None\n",
    "print(re.search(r\"ab+\", \"abbbbb\"))        # <_sre.SRE_Match object; span=(0, 6), match='abbbbb'>\n",
    "\n",
    "# {n, m} : occur n to m times\n",
    "print(re.search(r\"ab{2,10}\", \"a\"))        # None\n",
    "print(re.search(r\"ab{2,10}\", \"abbbbb\"))   # <_sre.SRE_Match object; span=(0, 6), match='abbbbb'>"
   ]
  },
  {
   "cell_type": "code",
   "execution_count": 71,
   "metadata": {},
   "outputs": [
    {
     "name": "stdout",
     "output_type": "stream",
     "text": [
      "ID: 021523, Date: Feb/12/2017\n",
      "021523\n",
      "Feb/12/2017\n"
     ]
    }
   ],
   "source": [
    "#分组\n",
    "\n",
    "#我们甚至可以为找到的内容分组, 使用 () 能轻松实现这件事. \n",
    "#通过分组, 我们能轻松定位所找到的内容. 比如在这个 (\\d+) 组里,\n",
    "#需要找到的是一些数字, 在 (.+) 这个组里, 我们会找到 “Date: “ 后面的所有内容.\n",
    "#当使用 match.group() 时, 他会返回所有组里的内容, 而如果给 .group(2) 里加一个数, 它就能定位你需要返回哪个组里的信息.\n",
    "\n",
    "#注意，group里保存的仅仅是正则表达式里面的部分\n",
    "\n",
    "match = re.search(r\"ID: (\\d+), Date: (.+)\", \"ID: 021523, Date: Feb/12/2017\")\n",
    "print(match.group())                   # 021523, Date: Feb/12/2017\n",
    "print(match.group(1))                  # 021523\n",
    "print(match.group(2))                  # Date: Feb/12/2017"
   ]
  },
  {
   "cell_type": "code",
   "execution_count": 73,
   "metadata": {},
   "outputs": [
    {
     "name": "stdout",
     "output_type": "stream",
     "text": [
      "ID: 021523\n",
      " Date: Feb/12/2017\n",
      "<_sre.SRE_Match object; span=(0, 29), match='ID: 021523, Date: Feb/12/2017'>\n",
      "<_sre.SRE_Match object; span=(0, 29), match='ID: 021523, Date: Feb/12/2017'>\n"
     ]
    }
   ],
   "source": [
    "#有时候, 组会很多, 光用数字可能比较难找到自己想要的组,\n",
    "#这时候, 如果有一个名字当做索引, 会是一件很容易的事. \n",
    "#我们字需要在括号的开头写上这样的形式 ?P<名字> 就给这个组定义了一个名字. \n",
    "#然后就能用这个名字找到这个组的内容.\n",
    "\n",
    "match = re.search(r\"(?P<id>ID: \\d+),(?P<date>.+)\", \"ID: 021523, Date: Feb/12/2017\")\n",
    "\n",
    "match2 = re.search(r\".+\",\"ID: 021523, Date: Feb/12/2017\" )\n",
    "\n",
    "print(match.group('id'))                # 021523\n",
    "print(match.group('date'))              # Date: Feb/12/2017\n",
    "\n",
    "print(match2)\n",
    "print(match)"
   ]
  },
  {
   "cell_type": "code",
   "execution_count": 74,
   "metadata": {},
   "outputs": [
    {
     "name": "stdout",
     "output_type": "stream",
     "text": [
      "['run', 'ran']\n",
      "['run', 'ran']\n"
     ]
    }
   ],
   "source": [
    "#findall()函数\n",
    "#前面我们说的都是只找到了最开始匹配上的一项而已, \n",
    "#如果需要找到全部的匹配项, 我们可以使用 findall 功能. \n",
    "#然后返回一个列表. 注意下面还有一个新的知识点, | 是 or 的意思,\n",
    "#要不是前者要不是后者.\n",
    "\n",
    "# findall\n",
    "print(re.findall(r\"r[ua]n\", \"run ran ren\"))    # ['run', 'ran']\n",
    "\n",
    "# | : or\n",
    "print(re.findall(r\"(run|ran)\", \"run ran ren\")) # ['run', 'ran']"
   ]
  },
  {
   "cell_type": "code",
   "execution_count": 75,
   "metadata": {},
   "outputs": [
    {
     "name": "stdout",
     "output_type": "stream",
     "text": [
      "dog catches to cat\n",
      "he fuck she\n"
     ]
    }
   ],
   "source": [
    "#replace 函数\n",
    "#我们还能通过正则表达式匹配上一些形式的字符串然后再替代掉这些字符串. 使用这种匹配 re.sub(), \n",
    "#将会比 python 自带的 string.replace() 要灵活多变.\n",
    "\n",
    "#re.sub(正则式，替换值，目标字符串)\n",
    "\n",
    "print(re.sub(r\"r[au]ns\", \"catches\", \"dog runs to cat\"))     # dog catches to cat\n",
    "print(re.sub(r\"r[ua].\", \"fuck\", \"he run she\"))"
   ]
  },
  {
   "cell_type": "code",
   "execution_count": 76,
   "metadata": {},
   "outputs": [
    {
     "name": "stdout",
     "output_type": "stream",
     "text": [
      "['a', 'b', 'c', 'd', 'e']\n"
     ]
    }
   ],
   "source": [
    "#split分割函数\n",
    "print(re.split(r\"[,;\\.]\", \"a;b,c.d;e\"))             # ['a', 'b', 'c', 'd', 'e']"
   ]
  },
  {
   "cell_type": "code",
   "execution_count": 77,
   "metadata": {},
   "outputs": [
    {
     "name": "stdout",
     "output_type": "stream",
     "text": [
      "<_sre.SRE_Match object; span=(4, 7), match='ran'>\n"
     ]
    }
   ],
   "source": [
    "#compile函数\n",
    "#我们还能使用 compile 过后的正则, 来对这个正则重复使用. 先将正则 compile 进一个变量,\n",
    "#比如 compiled_re, 然后直接使用这个 compiled_re 来搜索.\n",
    "compiled_re = re.compile(r\"r[ua]n\")\n",
    "print(compiled_re.search(\"dog ran to cat\"))  # <_sre.SRE_Match object; span=(4, 7), match='ran'>"
   ]
  },
  {
   "cell_type": "code",
   "execution_count": null,
   "metadata": {},
   "outputs": [],
   "source": []
  }
 ],
 "metadata": {
  "kernelspec": {
   "display_name": "Python 3",
   "language": "python",
   "name": "python3"
  },
  "language_info": {
   "codemirror_mode": {
    "name": "ipython",
    "version": 3
   },
   "file_extension": ".py",
   "mimetype": "text/x-python",
   "name": "python",
   "nbconvert_exporter": "python",
   "pygments_lexer": "ipython3",
   "version": "3.6.4"
  }
 },
 "nbformat": 4,
 "nbformat_minor": 2
}
